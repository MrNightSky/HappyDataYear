{
 "cells": [
  {
   "cell_type": "code",
   "execution_count": 1,
   "metadata": {},
   "outputs": [],
   "source": [
    "import pandas as pd\n",
    "import numpy as np\n",
    "import urllib3\n",
    "import certifi\n",
    "import tqdm\n",
    "import BasicFunctions as bf\n",
    "import DataCorrecting as dc\n",
    "import json\n",
    "\n",
    "from lxml import etree\n",
    "from io import StringIO, BytesIO\n",
    "from selenium import webdriver\n",
    "from selenium.webdriver.common.keys import Keys\n",
    "import time"
   ]
  },
  {
   "cell_type": "code",
   "execution_count": 2,
   "metadata": {},
   "outputs": [],
   "source": [
    "train, test = bf.data_extract('train_indexes.csv', 'test_indexes.csv')"
   ]
  },
  {
   "cell_type": "code",
   "execution_count": 4,
   "metadata": {},
   "outputs": [],
   "source": [
    "def pc_from_adress(X):\n",
    "    postal_codes = X.postal_code.values\n",
    "    for i, address in zip(range(X.shape[0]), X.address_rus):\n",
    "        postal_code = address.split()[-1]\n",
    "        if postal_code.isdigit():\n",
    "            postal_codes[i] = postal_code\n",
    "    X.postal_code = postal_codes\n",
    "    return X"
   ]
  },
  {
   "cell_type": "code",
   "execution_count": 5,
   "metadata": {},
   "outputs": [],
   "source": [
    "train = pc_from_adress(train)\n",
    "test = pc_from_adress(test)"
   ]
  },
  {
   "cell_type": "code",
   "execution_count": 6,
   "metadata": {},
   "outputs": [],
   "source": [
    "def pc_from_net(X):\n",
    "    driver = webdriver.Chrome()\n",
    "    driver.get('https://www.pochta.ru/post-index')\n",
    "    indexes = X.postal_code.values\n",
    "    for i in tqdm.tqdm_notebook(range(X.shape[0])):# - 1, 0, -1)):\n",
    "        if X.postal_code[i] == 0:\n",
    "            try:\n",
    "                address_text = X.address_rus[i]\n",
    "                address = driver.find_element_by_xpath(\"//*[@type='text']\")\n",
    "                address.send_keys(address_text)\n",
    "                address.send_keys(Keys.ENTER)\n",
    "                time.sleep(1)\n",
    "                try:\n",
    "                    index = driver.find_element_by_css_selector(\".index-card__postal-code\")\n",
    "                    indexes[i] = index.text\n",
    "                except BaseException:\n",
    "                    indexes[i] = 0\n",
    "                driver.refresh()\n",
    "            except BaseException:\n",
    "                print('Error', i)\n",
    "                time.sleep(10)\n",
    "                driver.refresh()\n",
    "    X.postal_codes = indexes\n",
    "    return X"
   ]
  },
  {
   "cell_type": "code",
   "execution_count": 18,
   "metadata": {},
   "outputs": [
    {
     "data": {
      "application/vnd.jupyter.widget-view+json": {
       "model_id": "2cec14dcbd42484c80ba7c4f4524c8d7",
       "version_major": 2,
       "version_minor": 0
      },
      "text/plain": [
       "HBox(children=(IntProgress(value=0, max=2504), HTML(value='')))"
      ]
     },
     "metadata": {},
     "output_type": "display_data"
    }
   ],
   "source": [
    "new_test = pc_from_net(new_test)\n",
    "new_train = pc_from_net(new_train)"
   ]
  }
 ],
 "metadata": {
  "kernelspec": {
   "display_name": "Python 3",
   "language": "python",
   "name": "python3"
  },
  "language_info": {
   "codemirror_mode": {
    "name": "ipython",
    "version": 3
   },
   "file_extension": ".py",
   "mimetype": "text/x-python",
   "name": "python",
   "nbconvert_exporter": "python",
   "pygments_lexer": "ipython3",
   "version": "3.6.5"
  }
 },
 "nbformat": 4,
 "nbformat_minor": 2
}
