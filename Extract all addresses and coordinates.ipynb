{
 "cells": [
  {
   "cell_type": "code",
   "execution_count": 1,
   "metadata": {},
   "outputs": [],
   "source": [
    "import pandas as pd\n",
    "import numpy as np\n",
    "import urllib3\n",
    "import certifi\n",
    "import json\n",
    "import math\n",
    "import tqdm"
   ]
  },
  {
   "cell_type": "code",
   "execution_count": 2,
   "metadata": {},
   "outputs": [],
   "source": [
    "train = pd.read_csv('train.csv', index_col=0)\n",
    "test = pd.read_csv('test.csv', index_col=0)"
   ]
  },
  {
   "cell_type": "code",
   "execution_count": 3,
   "metadata": {},
   "outputs": [],
   "source": [
    "translate_key = 'trnsl.1.1.20181204T151552Z.9fcb0a1d8844bf3c.5507321eddbdb0415d2f60ed5318e9a642324aaf'\n",
    "maps_key = '92488eba-dae2-41c9-8386-0d68e3591866'"
   ]
  },
  {
   "cell_type": "code",
   "execution_count": 4,
   "metadata": {},
   "outputs": [
    {
     "data": {
      "text/plain": [
       "304"
      ]
     },
     "execution_count": 4,
     "metadata": {},
     "output_type": "execute_result"
    }
   ],
   "source": [
    "train.address.count() - train.address_rus.count()"
   ]
  },
  {
   "cell_type": "markdown",
   "metadata": {},
   "source": [
    "Заметка Попробовать if r.status == 200: заменить на try except"
   ]
  },
  {
   "cell_type": "code",
   "execution_count": 5,
   "metadata": {},
   "outputs": [],
   "source": [
    "http = urllib3.PoolManager(cert_reqs='CERT_REQUIRED', ca_certs=certifi.where())\n",
    "\n",
    "def geo(X, maps_key):\n",
    "    problem_adresses = []\n",
    "    address_rus = X.address_rus.values\n",
    "    long = X.long.values\n",
    "    lat = X.lat.values\n",
    "    postal_code = np.zeros(X.shape[0], dtype=int)\n",
    "    for i in tqdm.tqdm_notebook(range(X.shape[0])):\n",
    "        r = http.request('GET', 'https://geocode-maps.yandex.ru/1.x/?apikey=' + maps_key + '&format=json&geocode=' + X.address[i])\n",
    "        if r.status == 200:\n",
    "            if math.isnan(X.long[i]):\n",
    "                try:\n",
    "                    coordinates = json.loads(r.data.decode('utf-8'))['response']['GeoObjectCollection']['featureMember'][0]['GeoObject']['Point']['pos'].split()\n",
    "                    long[i] = float(coordinates[0])\n",
    "                    lat[i] = float(coordinates[1])\n",
    "                    street = json.loads(r.data.decode('utf-8'))['response']['GeoObjectCollection']['featureMember'][0]['GeoObject']['name']\n",
    "                    region = json.loads(r.data.decode('utf-8'))['response']['GeoObjectCollection']['featureMember'][0]['GeoObject']['description']\n",
    "                    address_rus[i] = street + ', ' + region\n",
    "                except IndexError:\n",
    "                    problem_adresses.append(i)\n",
    "            try:\n",
    "                postal_code[i] = int(json.loads(r.data.decode('utf-8'))['response']['GeoObjectCollection']['featureMember'][0]['GeoObject']['metaDataProperty']['GeocoderMetaData']['Address']['postal_code'])\n",
    "            except BaseException: \n",
    "                postal_code[i] = 0\n",
    "        else:\n",
    "            if math.isnan(X.long[i]):\n",
    "                problem_adresses.append(i)\n",
    "    X.address_rus = address_rus\n",
    "    X.long = long\n",
    "    X.lat = lat\n",
    "    X['postal_code'] = postal_code\n",
    "    return X, problem_adresses"
   ]
  },
  {
   "cell_type": "code",
   "execution_count": 8,
   "metadata": {},
   "outputs": [
    {
     "data": {
      "application/vnd.jupyter.widget-view+json": {
       "model_id": "af23f2959e35477c9885eb340a47121e",
       "version_major": 2,
       "version_minor": 0
      },
      "text/plain": [
       "HBox(children=(IntProgress(value=0, max=6261), HTML(value='')))"
      ]
     },
     "metadata": {},
     "output_type": "display_data"
    },
    {
     "name": "stdout",
     "output_type": "stream",
     "text": [
      "\n"
     ]
    }
   ],
   "source": [
    "train, problem_adresses = geo(train, maps_key)"
   ]
  },
  {
   "cell_type": "code",
   "execution_count": 6,
   "metadata": {},
   "outputs": [
    {
     "data": {
      "application/vnd.jupyter.widget-view+json": {
       "model_id": "d879d06c60c94bdea36bd2c4cb5a4773",
       "version_major": 2,
       "version_minor": 0
      },
      "text/plain": [
       "HBox(children=(IntProgress(value=0, max=2504), HTML(value='')))"
      ]
     },
     "metadata": {},
     "output_type": "display_data"
    },
    {
     "name": "stdout",
     "output_type": "stream",
     "text": [
      "\n"
     ]
    }
   ],
   "source": [
    "test, problem_test_adresses = geo(test, maps_key)"
   ]
  },
  {
   "cell_type": "code",
   "execution_count": 9,
   "metadata": {},
   "outputs": [
    {
     "name": "stdout",
     "output_type": "stream",
     "text": [
      "0 0\n"
     ]
    }
   ],
   "source": [
    "print(train.lat.count() - train.lat.count(), test.lat.count() - test.lat.count())"
   ]
  }
 ],
 "metadata": {
  "kernelspec": {
   "display_name": "Python 3",
   "language": "python",
   "name": "python3"
  },
  "language_info": {
   "codemirror_mode": {
    "name": "ipython",
    "version": 3
   },
   "file_extension": ".py",
   "mimetype": "text/x-python",
   "name": "python",
   "nbconvert_exporter": "python",
   "pygments_lexer": "ipython3",
   "version": "3.6.5"
  }
 },
 "nbformat": 4,
 "nbformat_minor": 2
}
